{
 "cells": [
  {
   "cell_type": "code",
   "execution_count": 8,
   "id": "7b68371d-b982-4874-a2cb-a177894ef134",
   "metadata": {},
   "outputs": [
    {
     "name": "stdout",
     "output_type": "stream",
     "text": [
      "[('of', 271), ('the', 200), ('and', 121), ('in', 120), ('a', 89), ('to', 72), ('were', 70), ('with', 69), ('was', 56), ('for', 49)]\n"
     ]
    }
   ],
   "source": [
    "import nltk\n",
    "import string\n",
    "\n",
    "from collections import Counter\n",
    "\n",
    "def get_tokens():\n",
    "   with open('test-txt-search/1-s2.0-S8756328205000050-main.txt', 'r') as shakes:\n",
    "    text = shakes.read()\n",
    "    lowers = text.lower()\n",
    "    #remove the punctuation using the character deletion step of translate\n",
    "    translating = str.maketrans('', '', string.punctuation)\n",
    "    no_punctuation = lowers.translate(translating)\n",
    "    tokens = nltk.word_tokenize(no_punctuation)\n",
    "    return tokens\n",
    "\n",
    "tokens = get_tokens()\n",
    "count = Counter(tokens)\n",
    "print(count.most_common(10))"
   ]
  },
  {
   "cell_type": "code",
   "execution_count": 11,
   "id": "2e61ab55-d7a9-41f1-bfbc-6b5aa445df01",
   "metadata": {},
   "outputs": [
    {
     "name": "stderr",
     "output_type": "stream",
     "text": [
      "[nltk_data] Downloading package stopwords to\n",
      "[nltk_data]     /Users/rditljej/nltk_data...\n",
      "[nltk_data]   Unzipping corpora/stopwords.zip.\n"
     ]
    },
    {
     "name": "stdout",
     "output_type": "stream",
     "text": [
      "[('infection', 45), ('bone', 45), ('application', 44), ('systemic', 43), ('gentamicin', 41), ('animals', 34), ('j', 32), ('surgery', 31), ('implants', 31), ('groups', 31), ('antibiotic', 28), ('local', 25), ('prophylaxis', 24), ('1', 23), ('body', 19), ('osteomyelitis', 18), ('aureus', 18), ('al', 18), ('group', 18), ('2', 18), ('10', 17), ('implant', 17), ('study', 16), ('germany', 15), ('coating', 15), ('treated', 15), ('bacterial', 15), ('et', 15), ('b', 14), ('r', 14), ('g', 14), ('wires', 13), ('uncoated', 13), ('cultures', 13), ('sterile', 13), ('score', 13), ('pdlla', 12), ('kirschner', 12), ('coated', 12), ('tissue', 12), ('lucke', 12), ('iv', 12), ('2005', 11), ('titanium', 11), ('weight', 11), ('36', 11), ('blood', 11), ('h', 11), ('ii', 11), ('iii', 11), ('orthopedic', 10), ('antibiotics', 10), ('determined', 10), ('formation', 10), ('new', 10), ('f', 10), ('v', 10), ('c', 9), ('24', 9), ('30', 9), ('could', 9), ('770–778', 9), ('culture', 9), ('levels', 9), ('joint', 9), ('vi', 9), ('chemother', 9), ('implantrelated', 8), ('model', 8), ('applied', 8), ('min', 8), ('clinical', 8), ('bacteria', 8), ('100', 8), ('animal', 8), ('5', 8), ('radiographic', 8), ('fig', 8), ('signs', 8), ('gentamicincoated', 8), ('clin', 8), ('received', 7), ('administration', 7), ('perioperative', 7), ('efficacy', 7), ('medullary', 7), ('tibiae', 7), ('following', 7), ('surgical', 7), ('present', 7), ('used', 7), ('3', 7), ('7', 7), ('growth', 7), ('4', 7), ('serum', 7), ('0', 7), ('three', 7), ('6', 7), ('parameters', 7)]\n"
     ]
    }
   ],
   "source": [
    "from nltk.corpus import stopwords\n",
    "nltk.download('stopwords')\n",
    "\n",
    "\n",
    "tokens = get_tokens()\n",
    "filtered = [w for w in tokens if not w in stopwords.words('english')]\n",
    "count = Counter(filtered)\n",
    "print(count.most_common(100))"
   ]
  },
  {
   "cell_type": "code",
   "execution_count": 12,
   "id": "605b5e5f-e666-4655-b043-929faba199af",
   "metadata": {},
   "outputs": [
    {
     "name": "stdout",
     "output_type": "stream",
     "text": [
      "[('infect', 59), ('implant', 53), ('system', 50), ('group', 49), ('bone', 47), ('applic', 45), ('anim', 42), ('gentamicin', 41), ('antibiot', 39), ('j', 32), ('surgeri', 31), ('local', 28), ('coat', 27), ('cultur', 25), ('prophylaxi', 24), ('1', 23), ('bodi', 20), ('score', 19), ('osteomyel', 18), ('aureu', 18), ('use', 18), ('al', 18), ('2', 18), ('10', 17), ('studi', 17), ('wire', 16), ('determin', 16), ('treat', 16), ('germani', 15), ('bacteri', 15), ('et', 15), ('b', 14), ('r', 14), ('g', 14), ('prevent', 14), ('effect', 14), ('uncoat', 13), ('steril', 13), ('rat', 12), ('orthoped', 12), ('pdlla', 12), ('kirschner', 12), ('tissu', 12), ('luck', 12), ('iv', 12), ('2005', 11), ('titanium', 11), ('follow', 11), ('weight', 11), ('36', 11), ('blood', 11), ('radiograph', 11), ('h', 11), ('ii', 11), ('iii', 11), ('model', 10), ('administr', 10), ('evalu', 10), ('compar', 10), ('histolog', 10), ('develop', 10), ('format', 10), ('new', 10), ('level', 10), ('observ', 10), ('joint', 10), ('f', 10), ('v', 10), ('c', 9), ('24', 9), ('appli', 9), ('30', 9), ('tibia', 9), ('xray', 9), ('could', 9), ('rang', 9), ('770–778', 9), ('assess', 9), ('fig', 9), ('vi', 9), ('kwire', 9), ('chemoth', 9), ('implantrel', 8), ('periop', 8), ('min', 8), ('day', 8), ('clinic', 8), ('bacteria', 8), ('present', 8), ('100', 8), ('coloni', 8), ('5', 8), ('paramet', 8), ('sign', 8), ('statist', 8), ('differ', 8), ('gentamicinco', 8), ('clin', 8), ('microbiolog', 7), ('receiv', 7)]\n"
     ]
    }
   ],
   "source": [
    "\n",
    "\n",
    "from nltk.stem.porter import *\n",
    "\n",
    "def stem_tokens(tokens, stemmer):\n",
    "    stemmed = []\n",
    "    for item in tokens:\n",
    "        stemmed.append(stemmer.stem(item))\n",
    "    return stemmed\n",
    "\n",
    "stemmer = PorterStemmer()\n",
    "stemmed = stem_tokens(filtered, stemmer)\n",
    "count = Counter(stemmed)\n",
    "print(count.most_common(100))\n",
    "\n"
   ]
  },
  {
   "cell_type": "code",
   "execution_count": 13,
   "id": "309fe171-432e-4567-8d66-8955c8607463",
   "metadata": {},
   "outputs": [],
   "source": [
    "import nltk\n",
    "import string\n",
    "import os\n",
    "\n",
    "from sklearn.feature_extraction.text import TfidfVectorizer\n",
    "from nltk.stem.porter import PorterStemmer\n",
    "\n",
    "path = 'test-txt-search/'\n",
    "token_dict = {}\n",
    "stemmer = PorterStemmer()\n",
    "\n",
    "def stem_tokens(tokens, stemmer):\n",
    "    stemmed = []\n",
    "    for item in tokens:\n",
    "        stemmed.append(stemmer.stem(item))\n",
    "    return stemmed\n",
    "\n",
    "def tokenize(text):\n",
    "    tokens = nltk.word_tokenize(text)\n",
    "    stems = stem_tokens(tokens, stemmer)\n",
    "    return stems\n",
    "\n",
    "for subdir, dirs, files in os.walk(path):\n",
    "    for file in files:\n",
    "        file_path = subdir + os.path.sep + file\n",
    "        shakes = open(file_path, 'r')\n",
    "        text = shakes.read()\n",
    "        lowers = text.lower()\n",
    "        translating = str.maketrans('', '', string.punctuation)\n",
    "        no_punctuation = lowers.translate(translating)\n",
    "        token_dict[file] = no_punctuation\n",
    "        \n",
    "#this can take some time\n",
    "tfidf = TfidfVectorizer(tokenizer=tokenize, stop_words='english')\n",
    "tfs = tfidf.fit_transform(token_dict.values())"
   ]
  },
  {
   "cell_type": "code",
   "execution_count": 14,
   "id": "7737d5cf-a430-4f62-920a-d1209e912d10",
   "metadata": {},
   "outputs": [
    {
     "data": {
      "text/html": [
       "<style>#sk-container-id-2 {color: black;}#sk-container-id-2 pre{padding: 0;}#sk-container-id-2 div.sk-toggleable {background-color: white;}#sk-container-id-2 label.sk-toggleable__label {cursor: pointer;display: block;width: 100%;margin-bottom: 0;padding: 0.3em;box-sizing: border-box;text-align: center;}#sk-container-id-2 label.sk-toggleable__label-arrow:before {content: \"▸\";float: left;margin-right: 0.25em;color: #696969;}#sk-container-id-2 label.sk-toggleable__label-arrow:hover:before {color: black;}#sk-container-id-2 div.sk-estimator:hover label.sk-toggleable__label-arrow:before {color: black;}#sk-container-id-2 div.sk-toggleable__content {max-height: 0;max-width: 0;overflow: hidden;text-align: left;background-color: #f0f8ff;}#sk-container-id-2 div.sk-toggleable__content pre {margin: 0.2em;color: black;border-radius: 0.25em;background-color: #f0f8ff;}#sk-container-id-2 input.sk-toggleable__control:checked~div.sk-toggleable__content {max-height: 200px;max-width: 100%;overflow: auto;}#sk-container-id-2 input.sk-toggleable__control:checked~label.sk-toggleable__label-arrow:before {content: \"▾\";}#sk-container-id-2 div.sk-estimator input.sk-toggleable__control:checked~label.sk-toggleable__label {background-color: #d4ebff;}#sk-container-id-2 div.sk-label input.sk-toggleable__control:checked~label.sk-toggleable__label {background-color: #d4ebff;}#sk-container-id-2 input.sk-hidden--visually {border: 0;clip: rect(1px 1px 1px 1px);clip: rect(1px, 1px, 1px, 1px);height: 1px;margin: -1px;overflow: hidden;padding: 0;position: absolute;width: 1px;}#sk-container-id-2 div.sk-estimator {font-family: monospace;background-color: #f0f8ff;border: 1px dotted black;border-radius: 0.25em;box-sizing: border-box;margin-bottom: 0.5em;}#sk-container-id-2 div.sk-estimator:hover {background-color: #d4ebff;}#sk-container-id-2 div.sk-parallel-item::after {content: \"\";width: 100%;border-bottom: 1px solid gray;flex-grow: 1;}#sk-container-id-2 div.sk-label:hover label.sk-toggleable__label {background-color: #d4ebff;}#sk-container-id-2 div.sk-serial::before {content: \"\";position: absolute;border-left: 1px solid gray;box-sizing: border-box;top: 0;bottom: 0;left: 50%;z-index: 0;}#sk-container-id-2 div.sk-serial {display: flex;flex-direction: column;align-items: center;background-color: white;padding-right: 0.2em;padding-left: 0.2em;position: relative;}#sk-container-id-2 div.sk-item {position: relative;z-index: 1;}#sk-container-id-2 div.sk-parallel {display: flex;align-items: stretch;justify-content: center;background-color: white;position: relative;}#sk-container-id-2 div.sk-item::before, #sk-container-id-2 div.sk-parallel-item::before {content: \"\";position: absolute;border-left: 1px solid gray;box-sizing: border-box;top: 0;bottom: 0;left: 50%;z-index: -1;}#sk-container-id-2 div.sk-parallel-item {display: flex;flex-direction: column;z-index: 1;position: relative;background-color: white;}#sk-container-id-2 div.sk-parallel-item:first-child::after {align-self: flex-end;width: 50%;}#sk-container-id-2 div.sk-parallel-item:last-child::after {align-self: flex-start;width: 50%;}#sk-container-id-2 div.sk-parallel-item:only-child::after {width: 0;}#sk-container-id-2 div.sk-dashed-wrapped {border: 1px dashed gray;margin: 0 0.4em 0.5em 0.4em;box-sizing: border-box;padding-bottom: 0.4em;background-color: white;}#sk-container-id-2 div.sk-label label {font-family: monospace;font-weight: bold;display: inline-block;line-height: 1.2em;}#sk-container-id-2 div.sk-label-container {text-align: center;}#sk-container-id-2 div.sk-container {/* jupyter's `normalize.less` sets `[hidden] { display: none; }` but bootstrap.min.css set `[hidden] { display: none !important; }` so we also need the `!important` here to be able to override the default hidden behavior on the sphinx rendered scikit-learn.org. See: https://github.com/scikit-learn/scikit-learn/issues/21755 */display: inline-block !important;position: relative;}#sk-container-id-2 div.sk-text-repr-fallback {display: none;}</style><div id=\"sk-container-id-2\" class=\"sk-top-container\"><div class=\"sk-text-repr-fallback\"><pre>TfidfVectorizer(stop_words=&#x27;english&#x27;,\n",
       "                tokenizer=&lt;function tokenize at 0x1a276f420&gt;)</pre><b>In a Jupyter environment, please rerun this cell to show the HTML representation or trust the notebook. <br />On GitHub, the HTML representation is unable to render, please try loading this page with nbviewer.org.</b></div><div class=\"sk-container\" hidden><div class=\"sk-item\"><div class=\"sk-estimator sk-toggleable\"><input class=\"sk-toggleable__control sk-hidden--visually\" id=\"sk-estimator-id-2\" type=\"checkbox\" checked><label for=\"sk-estimator-id-2\" class=\"sk-toggleable__label sk-toggleable__label-arrow\">TfidfVectorizer</label><div class=\"sk-toggleable__content\"><pre>TfidfVectorizer(stop_words=&#x27;english&#x27;,\n",
       "                tokenizer=&lt;function tokenize at 0x1a276f420&gt;)</pre></div></div></div></div></div>"
      ],
      "text/plain": [
       "TfidfVectorizer(stop_words='english',\n",
       "                tokenizer=<function tokenize at 0x1a276f420>)"
      ]
     },
     "execution_count": 14,
     "metadata": {},
     "output_type": "execute_result"
    }
   ],
   "source": [
    "tfidf"
   ]
  },
  {
   "cell_type": "code",
   "execution_count": 15,
   "id": "98eaa4ca-a6d4-4122-b0ba-dc379f13a811",
   "metadata": {},
   "outputs": [
    {
     "data": {
      "text/plain": [
       "<30x21043 sparse matrix of type '<class 'numpy.float64'>'\n",
       "\twith 44523 stored elements in Compressed Sparse Row format>"
      ]
     },
     "execution_count": 15,
     "metadata": {},
     "output_type": "execute_result"
    }
   ],
   "source": [
    "tfs"
   ]
  },
  {
   "cell_type": "code",
   "execution_count": 21,
   "id": "8934987b-a66e-4ab4-97e6-d9ac2b26e918",
   "metadata": {},
   "outputs": [
    {
     "data": {
      "text/plain": [
       "array([[1.        , 0.45466666, 0.37700071, 0.53016469, 0.34886916,\n",
       "        0.41362891, 0.49841888, 0.48499176, 0.38492506, 0.39362225,\n",
       "        0.46500151, 0.44637149, 0.46761887, 0.45355081, 0.52446451,\n",
       "        0.39913526, 0.51558263, 0.44894697, 0.48360127, 0.43486227,\n",
       "        0.47483992, 0.46387183, 0.40241065, 0.39597595, 0.39102345,\n",
       "        0.38728772, 0.39528342, 0.37635067, 0.35388849, 0.44416489],\n",
       "       [0.45466666, 1.        , 0.41903147, 0.64192161, 0.44272164,\n",
       "        0.47490696, 0.55226492, 0.50825414, 0.47830963, 0.44141739,\n",
       "        0.49051211, 0.55512981, 0.52035307, 0.52521195, 0.54000715,\n",
       "        0.512429  , 0.53427998, 0.54783009, 0.53456203, 0.48989914,\n",
       "        0.45950003, 0.51501905, 0.52267227, 0.48622247, 0.4980065 ,\n",
       "        0.42316649, 0.49572495, 0.45422974, 0.43570024, 0.50489547],\n",
       "       [0.37700071, 0.41903147, 1.        , 0.51291349, 0.36623535,\n",
       "        0.39239588, 0.46835699, 0.48859173, 0.3506561 , 0.36156419,\n",
       "        0.47814489, 0.42029013, 0.45277408, 0.4409508 , 0.37612556,\n",
       "        0.3523279 , 0.47699994, 0.46181458, 0.47204138, 0.41350541,\n",
       "        0.40239228, 0.43097089, 0.36754613, 0.36500949, 0.35909906,\n",
       "        0.34562524, 0.34722127, 0.33251719, 0.32901961, 0.42754957],\n",
       "       [0.53016469, 0.64192161, 0.51291349, 1.        , 0.49011826,\n",
       "        0.55341274, 0.67015178, 0.64403212, 0.52102431, 0.49857473,\n",
       "        0.59368779, 0.62002976, 0.61576274, 0.62446123, 0.57118376,\n",
       "        0.54931616, 0.65153198, 0.63901111, 0.64868047, 0.57998309,\n",
       "        0.55759423, 0.60873355, 0.56818101, 0.52414172, 0.53778332,\n",
       "        0.48477155, 0.53131858, 0.52549147, 0.5003882 , 0.59575172],\n",
       "       [0.34886916, 0.44272164, 0.36623535, 0.49011826, 1.        ,\n",
       "        0.37832713, 0.42328706, 0.41198304, 0.39835259, 0.33941911,\n",
       "        0.3957648 , 0.5591706 , 0.40250423, 0.41301168, 0.42388169,\n",
       "        0.44103316, 0.42141853, 0.49053019, 0.40697313, 0.38167299,\n",
       "        0.35343427, 0.39147653, 0.46190491, 0.40793909, 0.37318022,\n",
       "        0.33368226, 0.40102759, 0.47523672, 0.37084205, 0.39607669],\n",
       "       [0.41362891, 0.47490696, 0.39239588, 0.55341274, 0.37832713,\n",
       "        1.        , 0.52333167, 0.50271167, 0.38804623, 0.39014242,\n",
       "        0.52151453, 0.4826018 , 0.46625321, 0.47955623, 0.42966098,\n",
       "        0.40704697, 0.49859849, 0.47288003, 0.48915864, 0.43986437,\n",
       "        0.41802502, 0.46156356, 0.43128747, 0.41434648, 0.39576237,\n",
       "        0.38328729, 0.39604023, 0.39591459, 0.38921391, 0.45313657],\n",
       "       [0.49841888, 0.55226492, 0.46835699, 0.67015178, 0.42328706,\n",
       "        0.52333167, 1.        , 0.60839522, 0.45923619, 0.45040216,\n",
       "        0.56243147, 0.55757543, 0.62192069, 0.57709227, 0.49788462,\n",
       "        0.4600881 , 0.64095544, 0.56452813, 0.68092966, 0.54364736,\n",
       "        0.54331929, 0.59289853, 0.48286482, 0.47477168, 0.46579435,\n",
       "        0.46781502, 0.45189651, 0.44837966, 0.44911583, 0.56468805],\n",
       "       [0.48499176, 0.50825414, 0.48859173, 0.64403212, 0.41198304,\n",
       "        0.50271167, 0.60839522, 1.        , 0.44621296, 0.43780523,\n",
       "        0.64434548, 0.52602218, 0.58948332, 0.57605133, 0.47585271,\n",
       "        0.4248722 , 0.63019082, 0.54480394, 0.61177692, 0.52691346,\n",
       "        0.5278214 , 0.56021983, 0.46036092, 0.44959038, 0.45039497,\n",
       "        0.44056246, 0.44226643, 0.43023878, 0.41133748, 0.54284076],\n",
       "       [0.38492506, 0.47830963, 0.3506561 , 0.52102431, 0.39835259,\n",
       "        0.38804623, 0.45923619, 0.44621296, 1.        , 0.36233003,\n",
       "        0.42694004, 0.48628533, 0.43578559, 0.43606301, 0.44805198,\n",
       "        0.46141051, 0.44999912, 0.47316979, 0.44372284, 0.41217159,\n",
       "        0.39083442, 0.42003015, 0.43453611, 0.40920882, 0.40600001,\n",
       "        0.35193779, 0.4081306 , 0.41964654, 0.37702932, 0.42510108],\n",
       "       [0.39362225, 0.44141739, 0.36156419, 0.49857473, 0.33941911,\n",
       "        0.39014242, 0.45040216, 0.43780523, 0.36233003, 1.        ,\n",
       "        0.42008993, 0.42224043, 0.43485686, 0.41268184, 0.39029279,\n",
       "        0.39266382, 0.45367488, 0.43037733, 0.43121968, 0.40829176,\n",
       "        0.39328034, 0.40907801, 0.37847302, 0.3873807 , 0.36959726,\n",
       "        0.35567584, 0.37420022, 0.34707854, 0.34003452, 0.42690678],\n",
       "       [0.46500151, 0.49051211, 0.47814489, 0.59368779, 0.3957648 ,\n",
       "        0.52151453, 0.56243147, 0.64434548, 0.42694004, 0.42008993,\n",
       "        1.        , 0.48934184, 0.55025686, 0.55525412, 0.44998502,\n",
       "        0.40662736, 0.56335189, 0.52077955, 0.56469794, 0.49516801,\n",
       "        0.49549357, 0.52622563, 0.43286654, 0.44324278, 0.42747809,\n",
       "        0.42488624, 0.42171518, 0.3997009 , 0.38840599, 0.50809829],\n",
       "       [0.44637149, 0.55512981, 0.42029013, 0.62002976, 0.5591706 ,\n",
       "        0.4826018 , 0.55757543, 0.52602218, 0.48628533, 0.42224043,\n",
       "        0.48934184, 1.        , 0.51580411, 0.51091544, 0.51687789,\n",
       "        0.55986447, 0.53889731, 0.5875331 , 0.54448303, 0.47806801,\n",
       "        0.45932978, 0.49788764, 0.55702411, 0.48602496, 0.46717281,\n",
       "        0.40738909, 0.47161473, 0.54212814, 0.49513388, 0.49164237],\n",
       "       [0.46761887, 0.52035307, 0.45277408, 0.61576274, 0.40250423,\n",
       "        0.46625321, 0.62192069, 0.58948332, 0.43578559, 0.43485686,\n",
       "        0.55025686, 0.51580411, 1.        , 0.5431527 , 0.45065197,\n",
       "        0.41997934, 0.61686461, 0.53855816, 0.6258601 , 0.53201791,\n",
       "        0.56590693, 0.5681574 , 0.44279884, 0.43466718, 0.44378223,\n",
       "        0.43152981, 0.41265982, 0.40486337, 0.40683568, 0.55513515],\n",
       "       [0.45355081, 0.52521195, 0.4409508 , 0.62446123, 0.41301168,\n",
       "        0.47955623, 0.57709227, 0.57605133, 0.43606301, 0.41268184,\n",
       "        0.55525412, 0.51091544, 0.5431527 , 1.        , 0.47521269,\n",
       "        0.43728809, 0.56003879, 0.55144825, 0.57147822, 0.49803438,\n",
       "        0.47817356, 0.5295476 , 0.46003479, 0.43928661, 0.44330079,\n",
       "        0.41824717, 0.45023575, 0.42750289, 0.39925979, 0.51062537],\n",
       "       [0.52446451, 0.54000715, 0.37612556, 0.57118376, 0.42388169,\n",
       "        0.42966098, 0.49788462, 0.47585271, 0.44805198, 0.39029279,\n",
       "        0.44998502, 0.51687789, 0.45065197, 0.47521269, 1.        ,\n",
       "        0.47923968, 0.48842101, 0.50327264, 0.47428999, 0.43359577,\n",
       "        0.42019068, 0.44873515, 0.46678609, 0.44516889, 0.42768774,\n",
       "        0.38231496, 0.43345532, 0.46601283, 0.46442245, 0.43944806],\n",
       "       [0.39913526, 0.512429  , 0.3523279 , 0.54931616, 0.44103316,\n",
       "        0.40704697, 0.4600881 , 0.4248722 , 0.46141051, 0.39266382,\n",
       "        0.40662736, 0.55986447, 0.41997934, 0.43728809, 0.47923968,\n",
       "        1.        , 0.44534421, 0.50904665, 0.43315   , 0.41198163,\n",
       "        0.39525698, 0.40802178, 0.48857614, 0.45965841, 0.43229653,\n",
       "        0.35523743, 0.43666929, 0.48071018, 0.44402023, 0.42811385],\n",
       "       [0.51558263, 0.53427998, 0.47699994, 0.65153198, 0.42141853,\n",
       "        0.49859849, 0.64095544, 0.63019082, 0.44999912, 0.45367488,\n",
       "        0.56335189, 0.53889731, 0.61686461, 0.56003879, 0.48842101,\n",
       "        0.44534421, 1.        , 0.5600082 , 0.64285135, 0.58256375,\n",
       "        0.59214785, 0.60800745, 0.46961059, 0.48755094, 0.44868328,\n",
       "        0.48537601, 0.43884455, 0.43395987, 0.43166643, 0.56850706],\n",
       "       [0.44894697, 0.54783009, 0.46181458, 0.63901111, 0.49053019,\n",
       "        0.47288003, 0.56452813, 0.54480394, 0.47316979, 0.43037733,\n",
       "        0.52077955, 0.5875331 , 0.53855816, 0.55144825, 0.50327264,\n",
       "        0.50904665, 0.5600082 , 1.        , 0.57721193, 0.4904433 ,\n",
       "        0.47518539, 0.52844169, 0.54714669, 0.45946349, 0.46383565,\n",
       "        0.41750495, 0.46248856, 0.48875627, 0.44430537, 0.5156224 ],\n",
       "       [0.48360127, 0.53456203, 0.47204138, 0.64868047, 0.40697313,\n",
       "        0.48915864, 0.68092966, 0.61177692, 0.44372284, 0.43121968,\n",
       "        0.56469794, 0.54448303, 0.6258601 , 0.57147822, 0.47428999,\n",
       "        0.43315   , 0.64285135, 0.57721193, 1.        , 0.54828235,\n",
       "        0.53005013, 0.59613325, 0.46096927, 0.44658354, 0.44706435,\n",
       "        0.45115355, 0.4202434 , 0.4149892 , 0.43227809, 0.55930126],\n",
       "       [0.43486227, 0.48989914, 0.41350541, 0.57998309, 0.38167299,\n",
       "        0.43986437, 0.54364736, 0.52691346, 0.41217159, 0.40829176,\n",
       "        0.49516801, 0.47806801, 0.53201791, 0.49803438, 0.43359577,\n",
       "        0.41198163, 0.58256375, 0.4904433 , 0.54828235, 1.        ,\n",
       "        0.47326217, 0.5845144 , 0.42595374, 0.42481521, 0.41153382,\n",
       "        0.40918017, 0.40680773, 0.39302855, 0.37510157, 0.49564468],\n",
       "       [0.47483992, 0.45950003, 0.40239228, 0.55759423, 0.35343427,\n",
       "        0.41802502, 0.54331929, 0.5278214 , 0.39083442, 0.39328034,\n",
       "        0.49549357, 0.45932978, 0.56590693, 0.47817356, 0.42019068,\n",
       "        0.39525698, 0.59214785, 0.47518539, 0.53005013, 0.47326217,\n",
       "        1.        , 0.51723125, 0.40718924, 0.40519238, 0.39637334,\n",
       "        0.39213901, 0.39028028, 0.37521422, 0.36857724, 0.46913248],\n",
       "       [0.46387183, 0.51501905, 0.43097089, 0.60873355, 0.39147653,\n",
       "        0.46156356, 0.59289853, 0.56021983, 0.42003015, 0.40907801,\n",
       "        0.52622563, 0.49788764, 0.5681574 , 0.5295476 , 0.44873515,\n",
       "        0.40802178, 0.60800745, 0.52844169, 0.59613325, 0.5845144 ,\n",
       "        0.51723125, 1.        , 0.4355532 , 0.4341725 , 0.42784946,\n",
       "        0.42269457, 0.41004228, 0.40099337, 0.40147939, 0.51982684],\n",
       "       [0.40241065, 0.52267227, 0.36754613, 0.56818101, 0.46190491,\n",
       "        0.43128747, 0.48286482, 0.46036092, 0.43453611, 0.37847302,\n",
       "        0.43286654, 0.55702411, 0.44279884, 0.46003479, 0.46678609,\n",
       "        0.48857614, 0.46961059, 0.54714669, 0.46096927, 0.42595374,\n",
       "        0.40718924, 0.4355532 , 1.        , 0.43022677, 0.41789976,\n",
       "        0.36885314, 0.44357557, 0.47510337, 0.41827889, 0.43284223],\n",
       "       [0.39597595, 0.48622247, 0.36500949, 0.52414172, 0.40793909,\n",
       "        0.41434648, 0.47477168, 0.44959038, 0.40920882, 0.3873807 ,\n",
       "        0.44324278, 0.48602496, 0.43466718, 0.43928661, 0.44516889,\n",
       "        0.45965841, 0.48755094, 0.45946349, 0.44658354, 0.42481521,\n",
       "        0.40519238, 0.4341725 , 0.43022677, 1.        , 0.40286768,\n",
       "        0.41584799, 0.41480711, 0.41993863, 0.36755381, 0.44794312],\n",
       "       [0.39102345, 0.4980065 , 0.35909906, 0.53778332, 0.37318022,\n",
       "        0.39576237, 0.46579435, 0.45039497, 0.40600001, 0.36959726,\n",
       "        0.42747809, 0.46717281, 0.44378223, 0.44330079, 0.42768774,\n",
       "        0.43229653, 0.44868328, 0.46383565, 0.44706435, 0.41153382,\n",
       "        0.39637334, 0.42784946, 0.41789976, 0.40286768, 1.        ,\n",
       "        0.34689559, 0.42044042, 0.38946797, 0.35350698, 0.43612494],\n",
       "       [0.38728772, 0.42316649, 0.34562524, 0.48477155, 0.33368226,\n",
       "        0.38328729, 0.46781502, 0.44056246, 0.35193779, 0.35567584,\n",
       "        0.42488624, 0.40738909, 0.43152981, 0.41824717, 0.38231496,\n",
       "        0.35523743, 0.48537601, 0.41750495, 0.45115355, 0.40918017,\n",
       "        0.39213901, 0.42269457, 0.36885314, 0.41584799, 0.34689559,\n",
       "        1.        , 0.35563516, 0.3446104 , 0.32546959, 0.42151321],\n",
       "       [0.39528342, 0.49572495, 0.34722127, 0.53131858, 0.40102759,\n",
       "        0.39604023, 0.45189651, 0.44226643, 0.4081306 , 0.37420022,\n",
       "        0.42171518, 0.47161473, 0.41265982, 0.45023575, 0.43345532,\n",
       "        0.43666929, 0.43884455, 0.46248856, 0.4202434 , 0.40680773,\n",
       "        0.39028028, 0.41004228, 0.44357557, 0.41480711, 0.42044042,\n",
       "        0.35563516, 1.        , 0.42599347, 0.35284573, 0.41770073],\n",
       "       [0.37635067, 0.45422974, 0.33251719, 0.52549147, 0.47523672,\n",
       "        0.39591459, 0.44837966, 0.43023878, 0.41964654, 0.34707854,\n",
       "        0.3997009 , 0.54212814, 0.40486337, 0.42750289, 0.46601283,\n",
       "        0.48071018, 0.43395987, 0.48875627, 0.4149892 , 0.39302855,\n",
       "        0.37521422, 0.40099337, 0.47510337, 0.41993863, 0.38946797,\n",
       "        0.3446104 , 0.42599347, 1.        , 0.40266833, 0.39680265],\n",
       "       [0.35388849, 0.43570024, 0.32901961, 0.5003882 , 0.37084205,\n",
       "        0.38921391, 0.44911583, 0.41133748, 0.37702932, 0.34003452,\n",
       "        0.38840599, 0.49513388, 0.40683568, 0.39925979, 0.46442245,\n",
       "        0.44402023, 0.43166643, 0.44430537, 0.43227809, 0.37510157,\n",
       "        0.36857724, 0.40147939, 0.41827889, 0.36755381, 0.35350698,\n",
       "        0.32546959, 0.35284573, 0.40266833, 1.        , 0.38128397],\n",
       "       [0.44416489, 0.50489547, 0.42754957, 0.59575172, 0.39607669,\n",
       "        0.45313657, 0.56468805, 0.54284076, 0.42510108, 0.42690678,\n",
       "        0.50809829, 0.49164237, 0.55513515, 0.51062537, 0.43944806,\n",
       "        0.42811385, 0.56850706, 0.5156224 , 0.55930126, 0.49564468,\n",
       "        0.46913248, 0.51982684, 0.43284223, 0.44794312, 0.43612494,\n",
       "        0.42151321, 0.41770073, 0.39680265, 0.38128397, 1.        ]])"
      ]
     },
     "execution_count": 21,
     "metadata": {},
     "output_type": "execute_result"
    }
   ],
   "source": [
    "from sklearn.feature_extraction.text import TfidfVectorizer\n",
    "import os\n",
    "\n",
    "text_files = 'test-txt-search/'\n",
    "\n",
    "documents = [open(text_files + f).read() for f in os.listdir(text_files)]\n",
    "\n",
    "tfidf2 = TfidfVectorizer().fit_transform(documents)\n",
    "pairwise_similarity = tfidf2 * tfidf2.T\n",
    "pairwise_similarity.toarray()\n",
    "\n",
    "\n",
    "\n",
    "\n",
    "\n",
    "\n"
   ]
  },
  {
   "cell_type": "code",
   "execution_count": null,
   "id": "592d963e-ff06-4859-aa83-513e5d32c126",
   "metadata": {},
   "outputs": [],
   "source": []
  }
 ],
 "metadata": {
  "kernelspec": {
   "display_name": "Python 3 (ipykernel)",
   "language": "python",
   "name": "python3"
  },
  "language_info": {
   "codemirror_mode": {
    "name": "ipython",
    "version": 3
   },
   "file_extension": ".py",
   "mimetype": "text/x-python",
   "name": "python",
   "nbconvert_exporter": "python",
   "pygments_lexer": "ipython3",
   "version": "3.12.0"
  }
 },
 "nbformat": 4,
 "nbformat_minor": 5
}
